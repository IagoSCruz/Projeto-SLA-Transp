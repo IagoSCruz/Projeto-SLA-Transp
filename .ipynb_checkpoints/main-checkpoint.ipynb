{
 "cells": [
  {
   "cell_type": "code",
   "execution_count": 8,
   "metadata": {},
   "outputs": [],
   "source": [
    "import pandas as pd\n",
    "import matplotlib as plt\n",
    "import seaborn as sns\n",
    "import os"
   ]
  },
  {
   "cell_type": "code",
   "execution_count": 39,
   "metadata": {},
   "outputs": [],
   "source": [
    "# Carregar o dataframe\n",
    "\n",
    "df = pd.read_csv(\"csv/dados_logisticos_5000.csv\", sep=';')\n"
   ]
  },
  {
   "cell_type": "code",
   "execution_count": 40,
   "metadata": {},
   "outputs": [
    {
     "data": {
      "text/html": [
       "<div>\n",
       "<style scoped>\n",
       "    .dataframe tbody tr th:only-of-type {\n",
       "        vertical-align: middle;\n",
       "    }\n",
       "\n",
       "    .dataframe tbody tr th {\n",
       "        vertical-align: top;\n",
       "    }\n",
       "\n",
       "    .dataframe thead th {\n",
       "        text-align: right;\n",
       "    }\n",
       "</style>\n",
       "<table border=\"1\" class=\"dataframe\">\n",
       "  <thead>\n",
       "    <tr style=\"text-align: right;\">\n",
       "      <th></th>\n",
       "      <th>ID da Entrega</th>\n",
       "      <th>Transportadora</th>\n",
       "      <th>Data de Pedido</th>\n",
       "      <th>Data Prevista de Entrega</th>\n",
       "      <th>Data de Entrega</th>\n",
       "      <th>Status</th>\n",
       "      <th>Cidade de Origem</th>\n",
       "      <th>Cidade de Destino</th>\n",
       "      <th>Distância (km)</th>\n",
       "      <th>Peso da Carga (kg)</th>\n",
       "    </tr>\n",
       "  </thead>\n",
       "  <tbody>\n",
       "    <tr>\n",
       "      <th>0</th>\n",
       "      <td>1</td>\n",
       "      <td>FastExpress</td>\n",
       "      <td>2024-01-21</td>\n",
       "      <td>2024-01-24</td>\n",
       "      <td>2024-01-27</td>\n",
       "      <td>Atrasado</td>\n",
       "      <td>Porto Alegre</td>\n",
       "      <td>Belo Horizonte</td>\n",
       "      <td>1624</td>\n",
       "      <td>16.13</td>\n",
       "    </tr>\n",
       "    <tr>\n",
       "      <th>1</th>\n",
       "      <td>2</td>\n",
       "      <td>CargaCerta</td>\n",
       "      <td>2024-01-21</td>\n",
       "      <td>2024-01-28</td>\n",
       "      <td>NaN</td>\n",
       "      <td>Em trânsito</td>\n",
       "      <td>Brasília</td>\n",
       "      <td>Salvador</td>\n",
       "      <td>215</td>\n",
       "      <td>11.84</td>\n",
       "    </tr>\n",
       "    <tr>\n",
       "      <th>2</th>\n",
       "      <td>3</td>\n",
       "      <td>FastExpress</td>\n",
       "      <td>2024-01-30</td>\n",
       "      <td>2024-02-01</td>\n",
       "      <td>NaN</td>\n",
       "      <td>Não Entregue</td>\n",
       "      <td>Salvador</td>\n",
       "      <td>Rio de Janeiro</td>\n",
       "      <td>1038</td>\n",
       "      <td>7.92</td>\n",
       "    </tr>\n",
       "    <tr>\n",
       "      <th>3</th>\n",
       "      <td>4</td>\n",
       "      <td>FastExpress</td>\n",
       "      <td>2024-01-24</td>\n",
       "      <td>2024-01-29</td>\n",
       "      <td>2024-01-29</td>\n",
       "      <td>Entregue</td>\n",
       "      <td>Brasília</td>\n",
       "      <td>Rio de Janeiro</td>\n",
       "      <td>1909</td>\n",
       "      <td>7.28</td>\n",
       "    </tr>\n",
       "    <tr>\n",
       "      <th>4</th>\n",
       "      <td>5</td>\n",
       "      <td>FastExpress</td>\n",
       "      <td>2024-01-07</td>\n",
       "      <td>2024-01-11</td>\n",
       "      <td>NaN</td>\n",
       "      <td>Não Entregue</td>\n",
       "      <td>São Paulo</td>\n",
       "      <td>Brasília</td>\n",
       "      <td>369</td>\n",
       "      <td>13.75</td>\n",
       "    </tr>\n",
       "  </tbody>\n",
       "</table>\n",
       "</div>"
      ],
      "text/plain": [
       "   ID da Entrega Transportadora Data de Pedido Data Prevista de Entrega  \\\n",
       "0              1    FastExpress     2024-01-21               2024-01-24   \n",
       "1              2     CargaCerta     2024-01-21               2024-01-28   \n",
       "2              3    FastExpress     2024-01-30               2024-02-01   \n",
       "3              4    FastExpress     2024-01-24               2024-01-29   \n",
       "4              5    FastExpress     2024-01-07               2024-01-11   \n",
       "\n",
       "  Data de Entrega        Status Cidade de Origem Cidade de Destino  \\\n",
       "0      2024-01-27      Atrasado     Porto Alegre    Belo Horizonte   \n",
       "1             NaN   Em trânsito         Brasília          Salvador   \n",
       "2             NaN  Não Entregue         Salvador    Rio de Janeiro   \n",
       "3      2024-01-29      Entregue         Brasília    Rio de Janeiro   \n",
       "4             NaN  Não Entregue        São Paulo          Brasília   \n",
       "\n",
       "   Distância (km)  Peso da Carga (kg)  \n",
       "0            1624               16.13  \n",
       "1             215               11.84  \n",
       "2            1038                7.92  \n",
       "3            1909                7.28  \n",
       "4             369               13.75  "
      ]
     },
     "execution_count": 40,
     "metadata": {},
     "output_type": "execute_result"
    }
   ],
   "source": [
    "# Verificar se os dados carregados estão corretos\n",
    "\n",
    "df.head()"
   ]
  },
  {
   "cell_type": "code",
   "execution_count": 41,
   "metadata": {},
   "outputs": [
    {
     "name": "stdout",
     "output_type": "stream",
     "text": [
      "0           Atrasado\n",
      "1        Em trânsito\n",
      "2       Não Entregue\n",
      "3           Entregue\n",
      "4       Não Entregue\n",
      "            ...     \n",
      "4995     Em trânsito\n",
      "4996    Não Entregue\n",
      "4997        Atrasado\n",
      "4998        Entregue\n",
      "4999     Em trânsito\n",
      "Name: Status, Length: 5000, dtype: object\n"
     ]
    }
   ],
   "source": [
    "print(df['Status'])"
   ]
  },
  {
   "cell_type": "code",
   "execution_count": null,
   "metadata": {},
   "outputs": [],
   "source": []
  }
 ],
 "metadata": {
  "kernelspec": {
   "display_name": ".conda",
   "language": "python",
   "name": "python3"
  },
  "language_info": {
   "codemirror_mode": {
    "name": "ipython",
    "version": 3
   },
   "file_extension": ".py",
   "mimetype": "text/x-python",
   "name": "python",
   "nbconvert_exporter": "python",
   "pygments_lexer": "ipython3",
   "version": "3.11.11"
  }
 },
 "nbformat": 4,
 "nbformat_minor": 2
}
