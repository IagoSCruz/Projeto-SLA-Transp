{
 "cells": [
  {
   "cell_type": "markdown",
   "metadata": {},
   "source": [
    "# Dados de Logística - Analisando performance e SLA de transportadoras \n",
    "\n",
    "## Introdução\n",
    "Neste notebook procurei realizar uma análise exploratória de um conjunto de dados logísticos fictícios, focando em medir o desempenho de SLA (Service Level Agreement) e OTD (On-Time Delivery). As métricas e visualizações foram desenvolvidas para apresentar padrões e insights úteis para a gestão de transporte e logística aos leads interessados.\n",
    "\n",
    "---"
   ]
  },
  {
   "cell_type": "markdown",
   "metadata": {},
   "source": [
    "## Importando as Libs do notebook"
   ]
  },
  {
   "cell_type": "code",
   "execution_count": 16,
   "metadata": {},
   "outputs": [],
   "source": [
    "import pandas as pd\n",
    "import matplotlib.pyplot as plt\n",
    "import seaborn as sns\n",
    "from datetime import datetime"
   ]
  },
  {
   "cell_type": "markdown",
   "metadata": {},
   "source": [
    "## Configuração inicial das visualizações dos dados"
   ]
  },
  {
   "cell_type": "code",
   "execution_count": 2,
   "metadata": {},
   "outputs": [],
   "source": [
    "sns.set(style='whitegrid')\n"
   ]
  },
  {
   "cell_type": "markdown",
   "metadata": {},
   "source": [
    "## Carregando os Dados"
   ]
  },
  {
   "cell_type": "code",
   "execution_count": 3,
   "metadata": {},
   "outputs": [],
   "source": [
    "df = pd.read_csv('csv/dados_logisticos_5000.csv', sep=\";\")"
   ]
  },
  {
   "cell_type": "code",
   "execution_count": null,
   "metadata": {},
   "outputs": [],
   "source": [
    "\n",
    "# Validando se os dados foram carregados corretamente\n",
    "\n",
    "validate = df.head()\n",
    "\n",
    "print(validate)"
   ]
  },
  {
   "cell_type": "markdown",
   "metadata": {},
   "source": [
    "## Limpeza e Transformação dos Dados\n",
    "As colunas de datas são convertidas para o formato datetime, e colunas adicionais são criadas para facilitar a análise:\n",
    "\n",
    "- **Dias de Atraso**: Diferença entre a data de entrega real e a data prevista.\n",
    "- **Cumpriu SLA**: Indicador binário (1 para entrega dentro do prazo, 0 caso contrário)."
   ]
  },
  {
   "cell_type": "code",
   "execution_count": 5,
   "metadata": {},
   "outputs": [],
   "source": [
    "# Converter colunas de datas para datetime\n",
    "df[\"Data de Pedido\"] = pd.to_datetime(df[\"Data de Pedido\"])\n",
    "df[\"Data Prevista de Entrega\"] = pd.to_datetime(df[\"Data Prevista de Entrega\"])\n",
    "df[\"Data de Entrega\"] = pd.to_datetime(df[\"Data de Entrega\"], errors='coerce')\n",
    "\n",
    "# Criar coluna \"Dias de Atraso\"\n",
    "df[\"Dias de Atraso\"] = (df[\"Data de Entrega\"] - df[\"Data Prevista de Entrega\"]).dt.days\n",
    "\n",
    "# Criar coluna \"Cumpriu SLA\"\n",
    "df[\"Cumpriu SLA\"] = df[\"Dias de Atraso\"].apply(lambda x: 1 if pd.notnull(x) and x <= 0 else 0)"
   ]
  },
  {
   "cell_type": "code",
   "execution_count": null,
   "metadata": {},
   "outputs": [],
   "source": [
    "# Validando as colunas\n",
    "print(df.head())"
   ]
  },
  {
   "cell_type": "markdown",
   "metadata": {},
   "source": [
    "## Métricas Gerais\n",
    "\n",
    "- Percentual geral de SLA cumprido.\n",
    "- Contagem de status de entrega.\n",
    "- Percentual de SLA por transportadora."
   ]
  },
  {
   "cell_type": "code",
   "execution_count": 7,
   "metadata": {},
   "outputs": [],
   "source": [
    "# Percentual de SLA\n",
    "sla_percentual = df['Cumpriu SLA'].mean() * 100\n",
    "status_cont = df['Status'].value_counts()\n",
    "sla_transp = df.groupby('Transportadora')['Cumpriu SLA'].mean() * 100"
   ]
  },
  {
   "cell_type": "code",
   "execution_count": null,
   "metadata": {},
   "outputs": [],
   "source": [
    "print(sla_percentual)"
   ]
  },
  {
   "cell_type": "code",
   "execution_count": null,
   "metadata": {},
   "outputs": [],
   "source": [
    "print(status_cont)"
   ]
  },
  {
   "cell_type": "code",
   "execution_count": null,
   "metadata": {},
   "outputs": [],
   "source": [
    "print(sla_transp)"
   ]
  },
  {
   "cell_type": "markdown",
   "metadata": {},
   "source": [
    "---"
   ]
  },
  {
   "cell_type": "markdown",
   "metadata": {},
   "source": [
    "## Análise das métricas com Dashboards"
   ]
  },
  {
   "cell_type": "markdown",
   "metadata": {},
   "source": [
    "### 1. Percentual de SLA por Transportadora\n",
    "- Gráfico de Barras:"
   ]
  },
  {
   "cell_type": "code",
   "execution_count": null,
   "metadata": {},
   "outputs": [],
   "source": [
    "plt.figure(figsize=(10, 6))\n",
    "sla_transp.sort_values().plot(kind='bar', color='skyblue')\n",
    "plt.title('Percentual de SLA por Transportadora')\n",
    "plt.ylabel('SLA %')\n",
    "plt.xlabel('Transportadora')\n",
    "plt.xticks(rotation=0)\n",
    "plt.tight_layout()\n",
    "plt.show()"
   ]
  },
  {
   "cell_type": "markdown",
   "metadata": {},
   "source": [
    "## 2. Contagem de Status de Entrega\n",
    "- Gráfico de Barras"
   ]
  },
  {
   "cell_type": "code",
   "execution_count": null,
   "metadata": {},
   "outputs": [],
   "source": [
    "plt.figure(figsize=(10, 6))\n",
    "status_cont.plot(kind='bar', color='orange')\n",
    "plt.title('Contagem de Status de Entrega')\n",
    "plt.ylabel('Quantidade')\n",
    "plt.xlabel('Status')\n",
    "plt.xticks(rotation=0)\n",
    "plt.tight_layout()\n",
    "plt.show()"
   ]
  },
  {
   "cell_type": "markdown",
   "metadata": {},
   "source": [
    "### 3. Atraso de Entrega x Distância em KM\n",
    "- Gráfico de Dispersão:"
   ]
  },
  {
   "cell_type": "code",
   "execution_count": null,
   "metadata": {},
   "outputs": [],
   "source": [
    "plt.figure(figsize=(10, 6))\n",
    "plt.scatterplot(data=df, x='Distância (km)', y='Dias de Atraso', hue='Transportadora')\n",
    "plt.title('Atraso de Entrega vs Distância em KM')\n",
    "plt.ylabel('Dias de Atraso')\n",
    "plt.xlabel('Distância (KM)')\n",
    "plt.tight_layout()\n",
    "plt.show()"
   ]
  }
 ],
 "metadata": {
  "kernelspec": {
   "display_name": ".conda",
   "language": "python",
   "name": "python3"
  },
  "language_info": {
   "codemirror_mode": {
    "name": "ipython",
    "version": 3
   },
   "file_extension": ".py",
   "mimetype": "text/x-python",
   "name": "python",
   "nbconvert_exporter": "python",
   "pygments_lexer": "ipython3",
   "version": "3.11.11"
  }
 },
 "nbformat": 4,
 "nbformat_minor": 4
}
